{
  "nbformat": 4,
  "nbformat_minor": 0,
  "metadata": {
    "colab": {
      "name": "ML - Tutorial Practice 1",
      "provenance": []
    },
    "kernelspec": {
      "name": "python3",
      "display_name": "Python 3"
    },
    "language_info": {
      "name": "python"
    }
  },
  "cells": [
    {
      "cell_type": "markdown",
      "source": [
        "# Tutorial Practice 1"
      ],
      "metadata": {
        "id": "7lor8J7IlpJ2"
      }
    },
    {
      "cell_type": "markdown",
      "source": [
        "# Imports\n"
      ],
      "metadata": {
        "id": "9NgFG0FGj1rM"
      }
    },
    {
      "cell_type": "code",
      "source": [
        "import numpy as np\n",
        "import matplotlib.pyplot as plt"
      ],
      "metadata": {
        "id": "QeL94SAzUGdA"
      },
      "execution_count": 308,
      "outputs": []
    },
    {
      "cell_type": "markdown",
      "source": [
        "#Functions"
      ],
      "metadata": {
        "id": "wxx9igtNiUJa"
      }
    },
    {
      "cell_type": "code",
      "source": [
        "def correlation_coeff(x, y, n):\n",
        "  x_ = np.mean(x)\n",
        "  y_ = np.mean(y)\n",
        "  x_x_ = x - x_\n",
        "  y_y_ = y - y_\n",
        "  xy = x_x_ * y_y_\n",
        "  num = sum(xy)\n",
        "  dem = sum(pow(x_x_, 2)) * sum(pow(y_y_, 2))\n",
        "  return num / pow(dem, 0.5)\n",
        "\n",
        "def lin_al(x, y, n):\n",
        "  x_2 = x * x\n",
        "  xy = x * y\n",
        "  intercept = ((sum(y) * sum(x_2)) - (sum(x) * sum(xy))) / ((n * sum(x_2)) - (pow(sum(x), 2)))\n",
        "  slope = ((n * sum(xy)) - (sum(x) * sum(y))) / ((n * sum(x_2)) - pow(sum(x), 2))\n",
        "  return intercept, slope\n",
        "\n",
        "def least_squares(x, y, i, s):\n",
        "  diff = y - (i + s * x)\n",
        "  err = np.mean(pow(diff, 2))\n",
        "  return pow(err, 0.5)\n",
        "\n",
        "def pred(x, i, s):\n",
        "  return i + s * x\n",
        "\n",
        "def plot(x, y, i, s, pred=np.array([])):\n",
        "  x = np.sort(x)\n",
        "  fig, ax = plt.subplots(1, 1)\n",
        "  ax.scatter(x, y, label = \"Data\")\n",
        "  ax.plot(x, i + s * x, label = \"Prediction\", color = 'r')\n",
        "  ax.scatter(pred, i + s * pred, label = \"Value\", color = 'g')\n",
        "  fig.legend()\n",
        "  plt.show(fig)"
      ],
      "metadata": {
        "id": "pc4X82JiTr0Z"
      },
      "execution_count": 355,
      "outputs": []
    },
    {
      "cell_type": "markdown",
      "source": [
        "#1"
      ],
      "metadata": {
        "id": "od1ow790iW5S"
      }
    },
    {
      "cell_type": "code",
      "execution_count": 409,
      "metadata": {
        "id": "ugaHQYvdTTsO"
      },
      "outputs": [],
      "source": [
        "x = np.array([2, 3, 5, 7, 9])\n",
        "y = np.array([4, 5, 7, 10, 15])"
      ]
    },
    {
      "cell_type": "code",
      "source": [
        "i, s = lin_al(x, y, 5)\n",
        "print(\"Intercept:\", i, \"Slope:\", s)"
      ],
      "metadata": {
        "colab": {
          "base_uri": "https://localhost:8080/"
        },
        "id": "5-IlccvrW5dn",
        "outputId": "f55148f4-5578-4ba9-b98a-d83fbb92456d"
      },
      "execution_count": 410,
      "outputs": [
        {
          "output_type": "stream",
          "name": "stdout",
          "text": [
            "Intercept: 0.3048780487804878 Slope: 1.5182926829268293\n"
          ]
        }
      ]
    },
    {
      "cell_type": "code",
      "source": [
        "correlation_coeff(x, y, 5)"
      ],
      "metadata": {
        "colab": {
          "base_uri": "https://localhost:8080/"
        },
        "id": "U364gkQ2UW1h",
        "outputId": "55af2fc1-496c-4fcf-ce5b-503ad9845a8b"
      },
      "execution_count": 411,
      "outputs": [
        {
          "output_type": "execute_result",
          "data": {
            "text/plain": [
              "0.9795560970827194"
            ]
          },
          "metadata": {},
          "execution_count": 411
        }
      ]
    },
    {
      "cell_type": "code",
      "source": [
        "least_squares(x, y, i, s)"
      ],
      "metadata": {
        "colab": {
          "base_uri": "https://localhost:8080/"
        },
        "id": "xE4QTXOBYd2W",
        "outputId": "6dbeee91-117c-4c20-ad8a-c4238fb4ee61"
      },
      "execution_count": 412,
      "outputs": [
        {
          "output_type": "execute_result",
          "data": {
            "text/plain": [
              "0.7986268703523449"
            ]
          },
          "metadata": {},
          "execution_count": 412
        }
      ]
    },
    {
      "cell_type": "code",
      "source": [
        "plot(x, y, i, s)"
      ],
      "metadata": {
        "colab": {
          "base_uri": "https://localhost:8080/",
          "height": 295
        },
        "id": "ncc7QdZzbsSO",
        "outputId": "eb6c7db8-6a54-4221-cda8-f5afd53f3675"
      },
      "execution_count": 413,
      "outputs": [
        {
          "output_type": "display_data",
          "data": {
            "text/plain": [
              "<Figure size 432x288 with 1 Axes>"
            ],
            "image/png": "[encoded data removed]"
          },
          "metadata": {
            "needs_background": "light"
          }
        }
      ]
    },
    {
      "cell_type": "code",
      "source": [
        "plt.boxplot(x)\n",
        "plt.show()"
      ],
      "metadata": {
        "colab": {
          "base_uri": "https://localhost:8080/",
          "height": 265
        },
        "id": "4VemtHPegYrw",
        "outputId": "fc2f2e60-8a25-4274-9ff6-02e8f4c9ae54"
      },
      "execution_count": 414,
      "outputs": [
        {
          "output_type": "display_data",
          "data": {
            "text/plain": [
              "<Figure size 432x288 with 1 Axes>"
            ],
            "image/png": "[encoded data removed]"
          },
          "metadata": {
            "needs_background": "light"
          }
        }
      ]
    },
    {
      "cell_type": "markdown",
      "source": [
        "#2"
      ],
      "metadata": {
        "id": "i-g5BSndiaZR"
      }
    },
    {
      "cell_type": "code",
      "source": [
        "x = np.array([14.2, 16.4, 11.9, 15.2, 18.5, 22.1, 19.4, 25.1, 23.4, 18.1, 22.6, 17.2])\n",
        "y = np.array([215, 325, 185, 332, 406, 522, 412, 614, 544, 421, 445, 408])"
      ],
      "metadata": {
        "id": "xKss-hF5Zc49"
      },
      "execution_count": 415,
      "outputs": []
    },
    {
      "cell_type": "code",
      "source": [
        "correlation_coeff(x, y, 12)"
      ],
      "metadata": {
        "colab": {
          "base_uri": "https://localhost:8080/"
        },
        "id": "fgrkTQ3KaNZq",
        "outputId": "2b2558c1-10c3-4d3d-f768-8278a4c0ad37"
      },
      "execution_count": 416,
      "outputs": [
        {
          "output_type": "execute_result",
          "data": {
            "text/plain": [
              "0.9575066230015952"
            ]
          },
          "metadata": {},
          "execution_count": 416
        }
      ]
    },
    {
      "cell_type": "code",
      "source": [
        "i, s = lin_al(x, y, 12)\n",
        "print(i, s)"
      ],
      "metadata": {
        "colab": {
          "base_uri": "https://localhost:8080/"
        },
        "id": "igqQb0QeaP8q",
        "outputId": "04d710d9-7c83-410c-8cb9-1c2c6d1b16d3"
      },
      "execution_count": 417,
      "outputs": [
        {
          "output_type": "stream",
          "name": "stdout",
          "text": [
            "-159.47415234086318 30.08786179424521\n"
          ]
        }
      ]
    },
    {
      "cell_type": "code",
      "source": [
        "least_squares(x, y, i, s)"
      ],
      "metadata": {
        "colab": {
          "base_uri": "https://localhost:8080/"
        },
        "id": "BPX5J2c5aecr",
        "outputId": "a9169cf5-465b-4f81-afaa-e7ada019afff"
      },
      "execution_count": 418,
      "outputs": [
        {
          "output_type": "execute_result",
          "data": {
            "text/plain": [
              "34.804573952003956"
            ]
          },
          "metadata": {},
          "execution_count": 418
        }
      ]
    },
    {
      "cell_type": "code",
      "source": [
        "plot(x, y, i, s, np.array([21, 29]))"
      ],
      "metadata": {
        "colab": {
          "base_uri": "https://localhost:8080/",
          "height": 295
        },
        "id": "_bQBH3s1ajv8",
        "outputId": "f7a85723-4524-41a8-ead3-dca7dee7ff2e"
      },
      "execution_count": 419,
      "outputs": [
        {
          "output_type": "display_data",
          "data": {
            "text/plain": [
              "<Figure size 432x288 with 1 Axes>"
            ],
            "image/png": "[encoded data removed]"
          },
          "metadata": {
            "needs_background": "light"
          }
        }
      ]
    },
    {
      "cell_type": "code",
      "source": [
        "pred(21, i, s)"
      ],
      "metadata": {
        "colab": {
          "base_uri": "https://localhost:8080/"
        },
        "id": "7MejiiqwbZhe",
        "outputId": "c9aa10c8-17e1-4d3f-8028-5d5f120bf46a"
      },
      "execution_count": 420,
      "outputs": [
        {
          "output_type": "execute_result",
          "data": {
            "text/plain": [
              "472.3709453382862"
            ]
          },
          "metadata": {},
          "execution_count": 420
        }
      ]
    },
    {
      "cell_type": "code",
      "source": [
        "pred(29, i, s)"
      ],
      "metadata": {
        "colab": {
          "base_uri": "https://localhost:8080/"
        },
        "id": "xxyP72jNhfNA",
        "outputId": "cc8ae8e6-98b5-4060-bed4-a29a4e0db3aa"
      },
      "execution_count": 421,
      "outputs": [
        {
          "output_type": "execute_result",
          "data": {
            "text/plain": [
              "713.0738396922479"
            ]
          },
          "metadata": {},
          "execution_count": 421
        }
      ]
    }
  ]
}