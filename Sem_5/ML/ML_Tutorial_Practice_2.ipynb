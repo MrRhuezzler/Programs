{
 "cells": [
  {
   "cell_type": "markdown",
   "metadata": {},
   "source": [
    "# Tutorial Practice 2"
   ]
  },
  {
   "cell_type": "code",
   "execution_count": 167,
   "metadata": {},
   "outputs": [],
   "source": [
    "import sympy as sp\n",
    "import numpy as np\n",
    "import pandas as pd\n",
    "import random\n",
    "import matplotlib.pyplot as plt"
   ]
  },
  {
   "cell_type": "markdown",
   "metadata": {},
   "source": [
    "#### 1"
   ]
  },
  {
   "cell_type": "code",
   "execution_count": 7,
   "metadata": {},
   "outputs": [],
   "source": [
    "def gradient_descent(function, Xo, learning_rate, max_iter=10000, rtol=1e-6):\n",
    "    \"\"\"\n",
    "    Gradient descent algorithm\n",
    "    \"\"\"\n",
    "    symbolX = sp.symbols('x')\n",
    "    X = Xo\n",
    "    for i in range(max_iter):\n",
    "        grad = sp.diff(function, symbolX)\n",
    "        grad_value = grad.evalf(subs={symbolX: X})\n",
    "        Xnew = X - learning_rate * grad_value\n",
    "        if np.isclose(float(Xnew), float(X), rtol=rtol):\n",
    "            break\n",
    "        X = Xnew\n",
    "    return float(X)"
   ]
  },
  {
   "cell_type": "code",
   "execution_count": 8,
   "metadata": {},
   "outputs": [
    {
     "data": {
      "text/plain": [
       "-4.999752660833504"
      ]
     },
     "execution_count": 8,
     "metadata": {},
     "output_type": "execute_result"
    }
   ],
   "source": [
    "gradient_descent(sp.sympify('(x + 5) ^ 2'), 3, 0.01)"
   ]
  },
  {
   "cell_type": "markdown",
   "metadata": {},
   "source": [
    "#### 2"
   ]
  },
  {
   "cell_type": "code",
   "execution_count": 156,
   "metadata": {},
   "outputs": [],
   "source": [
    "data = pd.read_csv('Logistic Regression-survey.csv')"
   ]
  },
  {
   "cell_type": "code",
   "execution_count": 157,
   "metadata": {},
   "outputs": [
    {
     "data": {
      "text/html": [
       "<div>\n",
       "<style scoped>\n",
       "    .dataframe tbody tr th:only-of-type {\n",
       "        vertical-align: middle;\n",
       "    }\n",
       "\n",
       "    .dataframe tbody tr th {\n",
       "        vertical-align: top;\n",
       "    }\n",
       "\n",
       "    .dataframe thead th {\n",
       "        text-align: right;\n",
       "    }\n",
       "</style>\n",
       "<table border=\"1\" class=\"dataframe\">\n",
       "  <thead>\n",
       "    <tr style=\"text-align: right;\">\n",
       "      <th></th>\n",
       "      <th>id</th>\n",
       "      <th>male</th>\n",
       "      <th>age</th>\n",
       "      <th>died</th>\n",
       "    </tr>\n",
       "  </thead>\n",
       "  <tbody>\n",
       "    <tr>\n",
       "      <th>0</th>\n",
       "      <td>17734</td>\n",
       "      <td>1</td>\n",
       "      <td>86</td>\n",
       "      <td>1</td>\n",
       "    </tr>\n",
       "    <tr>\n",
       "      <th>1</th>\n",
       "      <td>17742</td>\n",
       "      <td>0</td>\n",
       "      <td>83</td>\n",
       "      <td>0</td>\n",
       "    </tr>\n",
       "    <tr>\n",
       "      <th>2</th>\n",
       "      <td>17748</td>\n",
       "      <td>0</td>\n",
       "      <td>66</td>\n",
       "      <td>0</td>\n",
       "    </tr>\n",
       "    <tr>\n",
       "      <th>3</th>\n",
       "      <td>17753</td>\n",
       "      <td>1</td>\n",
       "      <td>72</td>\n",
       "      <td>1</td>\n",
       "    </tr>\n",
       "    <tr>\n",
       "      <th>4</th>\n",
       "      <td>17758</td>\n",
       "      <td>0</td>\n",
       "      <td>69</td>\n",
       "      <td>0</td>\n",
       "    </tr>\n",
       "  </tbody>\n",
       "</table>\n",
       "</div>"
      ],
      "text/plain": [
       "      id  male  age  died\n",
       "0  17734     1   86     1\n",
       "1  17742     0   83     0\n",
       "2  17748     0   66     0\n",
       "3  17753     1   72     1\n",
       "4  17758     0   69     0"
      ]
     },
     "execution_count": 157,
     "metadata": {},
     "output_type": "execute_result"
    }
   ],
   "source": [
    "data.head()"
   ]
  },
  {
   "cell_type": "code",
   "execution_count": 158,
   "metadata": {},
   "outputs": [],
   "source": [
    "data = data.drop(['id', 'male'], axis=1)"
   ]
  },
  {
   "cell_type": "code",
   "execution_count": 159,
   "metadata": {},
   "outputs": [
    {
     "name": "stdout",
     "output_type": "stream",
     "text": [
      "5.072035051963396\n"
     ]
    }
   ],
   "source": [
    "# Alive\n",
    "print(data[data['died'] == 0]['age'].std())"
   ]
  },
  {
   "cell_type": "code",
   "execution_count": 160,
   "metadata": {},
   "outputs": [
    {
     "name": "stdout",
     "output_type": "stream",
     "text": [
      "8.17590220375567\n"
     ]
    }
   ],
   "source": [
    "# Dead\n",
    "print(data[data['died'] == 1]['age'].std())"
   ]
  },
  {
   "cell_type": "code",
   "execution_count": 187,
   "metadata": {},
   "outputs": [],
   "source": [
    "def logistic():\n",
    "    pass\n",
    "\n",
    "def logLoss(y, y_pred):\n",
    "    penality = 0\n",
    "    size = y_pred.shape[0]\n",
    "    for i in range(size):\n",
    "        print(y[i], y_pred[i])\n",
    "        if y[i] == 1:\n",
    "            penality -= np.log(y_pred[i])\n",
    "        else:\n",
    "            penality -= np.log(1 - y_pred[i])\n",
    "    return penality\n",
    "\n",
    "def sigmoid(y_pred):\n",
    "    return 1 / (1 + np.exp(-y_pred))"
   ]
  },
  {
   "cell_type": "code",
   "execution_count": 188,
   "metadata": {},
   "outputs": [],
   "source": [
    "y = data['died']\n",
    "x = data.drop('died', axis=1)"
   ]
  },
  {
   "cell_type": "code",
   "execution_count": 189,
   "metadata": {},
   "outputs": [
    {
     "data": {
      "text/plain": [
       "<matplotlib.collections.PathCollection at 0x7fb22c957a00>"
      ]
     },
     "execution_count": 189,
     "metadata": {},
     "output_type": "execute_result"
    },
    {
     "data": {
      "image/png": "[encoded data removed]",
      "text/plain": [
       "<Figure size 432x288 with 1 Axes>"
      ]
     },
     "metadata": {
      "needs_background": "light"
     },
     "output_type": "display_data"
    }
   ],
   "source": [
    "plt.scatter(x, y)"
   ]
  },
  {
   "cell_type": "code",
   "execution_count": 190,
   "metadata": {},
   "outputs": [],
   "source": [
    "w1 = random.random()\n",
    "b = random.random()"
   ]
  },
  {
   "cell_type": "code",
   "execution_count": 191,
   "metadata": {},
   "outputs": [],
   "source": [
    "y_pred = sigmoid(w1 * x['age'] + b)"
   ]
  },
  {
   "cell_type": "code",
   "execution_count": 192,
   "metadata": {},
   "outputs": [
    {
     "name": "stdout",
     "output_type": "stream",
     "text": [
      "1 1.0\n",
      "0 1.0\n",
      "0 1.0\n",
      "1 1.0\n",
      "0 1.0\n",
      "0 1.0\n",
      "0 1.0\n",
      "1 1.0\n",
      "1 1.0\n",
      "1 1.0\n",
      "1 1.0\n",
      "0 1.0\n",
      "0 1.0\n",
      "1 1.0\n",
      "0 1.0\n",
      "0 1.0\n",
      "1 1.0\n",
      "0 1.0\n",
      "0 1.0\n",
      "1 1.0\n",
      "1 1.0\n",
      "1 1.0\n",
      "0 1.0\n",
      "1 1.0\n",
      "1 1.0\n",
      "0 1.0\n",
      "0 1.0\n",
      "0 1.0\n",
      "1 1.0\n",
      "1 1.0\n",
      "0 1.0\n",
      "1 1.0\n",
      "0 1.0\n",
      "0 1.0\n",
      "0 1.0\n",
      "0 1.0\n",
      "1 1.0\n",
      "0 1.0\n",
      "0 1.0\n",
      "1 1.0\n",
      "1 1.0\n",
      "0 1.0\n",
      "1 1.0\n",
      "0 1.0\n",
      "0 1.0\n",
      "0 1.0\n",
      "1 1.0\n",
      "1 1.0\n",
      "1 1.0\n",
      "0 1.0\n",
      "1 1.0\n",
      "1 1.0\n",
      "0 1.0\n",
      "1 1.0\n",
      "1 1.0\n",
      "1 1.0\n",
      "0 1.0\n",
      "0 1.0\n",
      "1 1.0\n",
      "1 1.0\n",
      "1 1.0\n",
      "0 1.0\n",
      "1 1.0\n",
      "0 1.0\n",
      "0 1.0\n",
      "1 1.0\n",
      "0 1.0\n",
      "0 1.0\n",
      "1 1.0\n",
      "1 1.0\n",
      "1 1.0\n",
      "0 1.0\n",
      "1 1.0\n",
      "1 1.0\n",
      "1 1.0\n",
      "0 1.0\n",
      "1 1.0\n",
      "1 1.0\n",
      "1 1.0\n",
      "1 1.0\n",
      "1 1.0\n",
      "1 1.0\n",
      "1 1.0\n",
      "0 1.0\n",
      "0 1.0\n",
      "0 1.0\n",
      "0 1.0\n",
      "0 1.0\n",
      "0 1.0\n",
      "1 1.0\n",
      "1 1.0\n",
      "0 1.0\n",
      "1 1.0\n",
      "1 1.0\n",
      "1 1.0\n",
      "0 1.0\n",
      "1 1.0\n",
      "1 1.0\n",
      "1 1.0\n",
      "1 1.0\n",
      "0 1.0\n",
      "0 1.0\n",
      "0 1.0\n",
      "1 1.0\n",
      "1 1.0\n",
      "1 1.0\n",
      "0 1.0\n",
      "0 1.0\n",
      "1 1.0\n",
      "0 1.0\n",
      "0 1.0\n",
      "0 1.0\n",
      "0 1.0\n",
      "1 1.0\n",
      "1 1.0\n",
      "0 1.0\n",
      "0 1.0\n",
      "0 1.0\n",
      "1 1.0\n",
      "1 1.0\n",
      "0 1.0\n",
      "0 1.0\n",
      "1 1.0\n",
      "1 1.0\n",
      "1 1.0\n",
      "1 1.0\n",
      "0 1.0\n",
      "1 1.0\n",
      "1 1.0\n",
      "1 1.0\n",
      "0 1.0\n",
      "0 1.0\n",
      "1 1.0\n",
      "1 1.0\n",
      "1 1.0\n",
      "0 1.0\n",
      "0 1.0\n",
      "1 1.0\n",
      "0 1.0\n",
      "1 1.0\n",
      "1 1.0\n",
      "1 1.0\n",
      "0 1.0\n",
      "0 1.0\n",
      "1 1.0\n",
      "0 1.0\n",
      "1 1.0\n",
      "0 1.0\n",
      "1 1.0\n",
      "0 1.0\n",
      "1 1.0\n",
      "1 1.0\n",
      "1 1.0\n",
      "1 1.0\n",
      "0 1.0\n",
      "1 1.0\n",
      "0 1.0\n",
      "0 1.0\n",
      "0 1.0\n",
      "0 1.0\n",
      "1 1.0\n",
      "0 1.0\n",
      "1 1.0\n",
      "1 1.0\n",
      "0 1.0\n",
      "1 1.0\n",
      "1 1.0\n",
      "0 1.0\n",
      "1 1.0\n",
      "0 1.0\n",
      "1 1.0\n",
      "1 1.0\n",
      "1 1.0\n",
      "1 1.0\n",
      "0 1.0\n",
      "1 1.0\n",
      "1 1.0\n",
      "1 1.0\n",
      "0 1.0\n",
      "1 1.0\n",
      "1 1.0\n",
      "0 1.0\n",
      "1 1.0\n",
      "1 1.0\n",
      "0 1.0\n",
      "1 1.0\n",
      "0 1.0\n",
      "1 1.0\n",
      "1 1.0\n",
      "0 1.0\n",
      "1 1.0\n",
      "1 1.0\n",
      "1 1.0\n",
      "0 1.0\n",
      "1 1.0\n",
      "0 1.0\n",
      "0 1.0\n",
      "1 1.0\n",
      "1 1.0\n",
      "0 1.0\n",
      "1 1.0\n",
      "0 1.0\n",
      "0 1.0\n",
      "1 1.0\n",
      "0 1.0\n",
      "1 1.0\n",
      "0 1.0\n",
      "1 1.0\n",
      "1 1.0\n",
      "1 1.0\n",
      "0 1.0\n",
      "0 1.0\n",
      "1 1.0\n",
      "0 1.0\n",
      "0 1.0\n",
      "0 1.0\n",
      "1 1.0\n",
      "0 1.0\n",
      "0 1.0\n",
      "1 1.0\n",
      "0 1.0\n",
      "0 1.0\n",
      "0 1.0\n",
      "1 1.0\n",
      "1 1.0\n",
      "1 1.0\n",
      "0 1.0\n",
      "0 1.0\n",
      "0 1.0\n",
      "1 1.0\n",
      "0 1.0\n",
      "0 1.0\n",
      "0 1.0\n",
      "0 1.0\n",
      "1 1.0\n",
      "0 1.0\n",
      "1 1.0\n",
      "1 1.0\n",
      "0 1.0\n",
      "0 1.0\n",
      "1 1.0\n",
      "0 1.0\n",
      "0 1.0\n",
      "1 1.0\n",
      "1 1.0\n",
      "1 1.0\n",
      "1 1.0\n",
      "0 1.0\n",
      "1 1.0\n",
      "0 1.0\n",
      "0 1.0\n",
      "1 1.0\n",
      "0 1.0\n",
      "1 1.0\n",
      "0 1.0\n",
      "0 1.0\n",
      "1 1.0\n",
      "1 1.0\n",
      "0 1.0\n",
      "0 1.0\n",
      "0 1.0\n",
      "0 1.0\n",
      "0 1.0\n",
      "1 1.0\n",
      "0 1.0\n",
      "0 1.0\n",
      "1 1.0\n",
      "0 1.0\n",
      "0 1.0\n",
      "0 1.0\n",
      "1 1.0\n",
      "0 1.0\n",
      "0 1.0\n",
      "0 1.0\n",
      "1 1.0\n",
      "1 1.0\n",
      "0 1.0\n",
      "0 1.0\n",
      "0 1.0\n",
      "0 1.0\n",
      "0 1.0\n",
      "0 1.0\n",
      "1 1.0\n",
      "1 1.0\n"
     ]
    },
    {
     "name": "stderr",
     "output_type": "stream",
     "text": [
      "/tmp/ipykernel_12699/1411421222.py:12: RuntimeWarning: divide by zero encountered in log\n",
      "  penality -= np.log(1 - y_pred[i])\n"
     ]
    },
    {
     "data": {
      "text/plain": [
       "inf"
      ]
     },
     "execution_count": 192,
     "metadata": {},
     "output_type": "execute_result"
    }
   ],
   "source": [
    "logLoss(y, y_pred)"
   ]
  },
  {
   "cell_type": "code",
   "execution_count": null,
   "metadata": {},
   "outputs": [],
   "source": []
  }
 ],
 "metadata": {
  "kernelspec": {
   "display_name": "Python 3.10.4 64-bit",
   "language": "python",
   "name": "python3"
  },
  "language_info": {
   "codemirror_mode": {
    "name": "ipython",
    "version": 3
   },
   "file_extension": ".py",
   "mimetype": "text/x-python",
   "name": "python",
   "nbconvert_exporter": "python",
   "pygments_lexer": "ipython3",
   "version": "3.10.4"
  },
  "orig_nbformat": 4,
  "vscode": {
   "interpreter": {
    "hash": "4f946df053fbf2b937619d3c5458e7af74262f9a954d8797ba0b27400bcafe06"
   }
  }
 },
 "nbformat": 4,
 "nbformat_minor": 2
}
